{
 "cells": [
  {
   "cell_type": "code",
   "execution_count": 97,
   "metadata": {},
   "outputs": [],
   "source": [
    "import os\n",
    "import bs4\n",
    "import json\n",
    "import regex\n",
    "import random\n",
    "import urllib3\n",
    "import certifi\n",
    "from time import sleep\n",
    "from bs4 import BeautifulSoup"
   ]
  },
  {
   "cell_type": "code",
   "execution_count": 27,
   "metadata": {},
   "outputs": [],
   "source": [
    "url = \"https://theatregratuit.com/\""
   ]
  },
  {
   "cell_type": "code",
   "execution_count": 5,
   "metadata": {},
   "outputs": [],
   "source": [
    "http = urllib3.PoolManager(cert_reqs='CERT_REQUIRED', ca_certs=certifi.where())"
   ]
  },
  {
   "cell_type": "code",
   "execution_count": 105,
   "metadata": {},
   "outputs": [],
   "source": [
    "def get_soup(url):\n",
    "    r = http.request('GET', url)\n",
    "    return BeautifulSoup(r.data, 'html.parser')"
   ]
  },
  {
   "cell_type": "code",
   "execution_count": 106,
   "metadata": {},
   "outputs": [],
   "source": [
    "def get_page(url):\n",
    "    r = http.request('GET', url)\n",
    "    return r.data"
   ]
  },
  {
   "cell_type": "code",
   "execution_count": 47,
   "metadata": {},
   "outputs": [],
   "source": [
    "def find_next_page_link(all_a_with_href, index):\n",
    "    page_re = regex.compile(f\"page.*{index}\", regex.IGNORECASE)    \n",
    "    for a in reversed(all_a_with_href):\n",
    "        if regex.search(page_re, a.text):\n",
    "            print(\"found link\", a.text, a[\"href\"])\n",
    "            return a[\"href\"]\n",
    "    return False"
   ]
  },
  {
   "cell_type": "code",
   "execution_count": 50,
   "metadata": {},
   "outputs": [],
   "source": [
    "def find_all_pages(url):\n",
    "    index = 1\n",
    "    pages = []\n",
    "    pages.append(get_soup(url))\n",
    "    all_a_with_href = pages[0].find_all(\"a\", href=True)\n",
    "    index += 1            \n",
    "    next_link = find_next_page_link(all_a_with_href, index)\n",
    "    while next_link:\n",
    "        new_page = get_soup(f\"{url}/{next_link}\")\n",
    "        pages.append(new_page)        \n",
    "        all_a_with_href.extend(new_page.find_all(\"a\", href=True))\n",
    "        index += 1        \n",
    "        next_link = find_next_page_link(all_a_with_href, index)\n",
    "    return pages, all_a_with_href"
   ]
  },
  {
   "cell_type": "code",
   "execution_count": 51,
   "metadata": {},
   "outputs": [
    {
     "name": "stdout",
     "output_type": "stream",
     "text": [
      "found link ALLER A LA PAGE 2 page2.html\n",
      "found link ALLER A LA PAGE 3 page3.html\n"
     ]
    }
   ],
   "source": [
    "pages, all_a_with_href = find_all_pages(url)"
   ]
  },
  {
   "cell_type": "code",
   "execution_count": 107,
   "metadata": {},
   "outputs": [],
   "source": [
    "out_dir = 'theatregratuit-epubs'\n",
    "if not os.path.isdir(out_dir):\n",
    "    os.mkdir(out_dir)"
   ]
  },
  {
   "cell_type": "code",
   "execution_count": 115,
   "metadata": {},
   "outputs": [
    {
     "name": "stdout",
     "output_type": "stream",
     "text": [
      "getting epub: count-959055-Un_chapeau_de_paille_dItalie_-_Eugene_Labiche.epub\n",
      "getting epub: count-958959-La_Jarre_-_Luigi_Pirandello.epub\n",
      "getting epub: count-958965-La_propriete_-_Charles_Cros.epub\n",
      "getting epub: count-958992-Les_Boulingrin_-_Georges_Courteline.epub\n",
      "getting epub: count-958771-LOURS_-_Anton_Tchekhov.epub\n",
      "getting epub: count-959005-LOrphelin_de_la_Chine_-_Voltaire.epub\n",
      "getting epub: count-959014-On_purge_bebe__-_Georges_Feydeau.epub\n",
      "getting epub: count-958980-Le_gendre_de_Monsieur_Poirier_-_Emile_Augier.epub\n",
      "getting epub: count-958916-Eve_au_corsage_fleuri_-_Jean_Sibil.epub\n",
      "getting epub: count-994063-Le_Solliciteur_-_Eugene_Scribe.epub\n",
      "getting epub: count-958911-Edgard_et_sa_bonne_-_Eugene_Labiche.epub\n",
      "getting epub: count-959027-Ruy_Blas_-_Victor_Hugo.epub\n",
      "getting epub: count-958988-Leonie_est_en_avance_-_Georges_Feydeau.epub\n",
      "getting epub: count-994076-Cedrats_de_Sicile_-_Luigi_Pirandello.epub\n",
      "getting epub: count-958974-Le_commissaire_est_bon_enfant_-_Georges_Courteline.epub\n",
      "getting epub: count-994085-Monsieur_Codomat_-_Tristan_Bernard.epub\n",
      "getting epub: count-959016-Oncle_Vania_-_Anton_Tchekhov.epub\n",
      "getting epub: count-958984-Le_Wols_-_Jean_Sibil.epub\n",
      "getting epub: count-994082-LE_JOUEUR_-_Jean-Francois_Regnard.epub\n",
      "getting epub: count-1004265-Monsieur_Badin_-_Georges_Courteline.epub\n",
      "getting epub: count-1004248-LARTICLE_330_-_Georges_Courteline.epub\n",
      "getting epub: count-1004229-HORTENSE_A_DIT____JE_MEN_FOUS___-_Georges_Feydeau.epub\n",
      "getting epub: count-1004238-Laffaire_de_la_rue_de_Lourcine_-_Eugene_Labiche.epub\n",
      "getting epub: count-1004244-LIOLA_-_Luigi_Pirandello.epub\n"
     ]
    },
    {
     "ename": "KeyboardInterrupt",
     "evalue": "",
     "output_type": "error",
     "traceback": [
      "\u001b[0;31m---------------------------------------------------------------------------\u001b[0m",
      "\u001b[0;31mKeyboardInterrupt\u001b[0m                         Traceback (most recent call last)",
      "\u001b[0;32m<ipython-input-115-795ef5ab278c>\u001b[0m in \u001b[0;36m<module>\u001b[0;34m\u001b[0m\n\u001b[1;32m      6\u001b[0m         \u001b[0;32mwith\u001b[0m \u001b[0mopen\u001b[0m\u001b[0;34m(\u001b[0m\u001b[0mos\u001b[0m\u001b[0;34m.\u001b[0m\u001b[0mpath\u001b[0m\u001b[0;34m.\u001b[0m\u001b[0mjoin\u001b[0m\u001b[0;34m(\u001b[0m\u001b[0mout_dir\u001b[0m\u001b[0;34m,\u001b[0m\u001b[0mfname\u001b[0m\u001b[0;34m)\u001b[0m\u001b[0;34m,\u001b[0m \u001b[0;34m'wb'\u001b[0m\u001b[0;34m)\u001b[0m \u001b[0;32mas\u001b[0m \u001b[0mo\u001b[0m\u001b[0;34m:\u001b[0m\u001b[0;34m\u001b[0m\u001b[0;34m\u001b[0m\u001b[0m\n\u001b[1;32m      7\u001b[0m             \u001b[0mo\u001b[0m\u001b[0;34m.\u001b[0m\u001b[0mwrite\u001b[0m\u001b[0;34m(\u001b[0m\u001b[0mepub\u001b[0m\u001b[0;34m)\u001b[0m\u001b[0;34m\u001b[0m\u001b[0;34m\u001b[0m\u001b[0m\n\u001b[0;32m----> 8\u001b[0;31m         \u001b[0msleep\u001b[0m\u001b[0;34m(\u001b[0m\u001b[0;36m0.5\u001b[0m\u001b[0;34m)\u001b[0m\u001b[0;34m\u001b[0m\u001b[0;34m\u001b[0m\u001b[0m\n\u001b[0m",
      "\u001b[0;31mKeyboardInterrupt\u001b[0m: "
     ]
    }
   ],
   "source": [
    "for a in all_a_with_href:\n",
    "    if a.text == 'epub':\n",
    "        fname = a[\"href\"].split('/')[-1]\n",
    "        print(\"getting epub:\", fname)\n",
    "        epub = get_page(a['href'])\n",
    "        with open(os.path.join(out_dir,fname), 'wb') as o:\n",
    "            o.write(epub)\n",
    "        sleep(0.5)"
   ]
  }
 ],
 "metadata": {
  "kernelspec": {
   "display_name": "Python 3",
   "language": "python",
   "name": "python3"
  },
  "language_info": {
   "codemirror_mode": {
    "name": "ipython",
    "version": 3
   },
   "file_extension": ".py",
   "mimetype": "text/x-python",
   "name": "python",
   "nbconvert_exporter": "python",
   "pygments_lexer": "ipython3",
   "version": "3.7.6"
  }
 },
 "nbformat": 4,
 "nbformat_minor": 4
}
